{
  "nbformat": 4,
  "nbformat_minor": 0,
  "metadata": {
    "colab": {
      "provenance": []
    },
    "kernelspec": {
      "name": "python3",
      "display_name": "Python 3"
    },
    "language_info": {
      "name": "python"
    }
  },
  "cells": [
    {
      "cell_type": "markdown",
      "source": [
        "# **Hand Written Digital Prediction - Classification Analysis**"
      ],
      "metadata": {
        "id": "yzKury4qMJL-"
      }
    },
    {
      "cell_type": "markdown",
      "source": [
        "The digit dataset consists of 8x8 pixels images of digits .The images attribute of the dataset stores 8x8 arrays of grayscale values for each image we will use these arrays to vizualize the first 4 images.The target attribute of the dataset stores the digit each image represents"
      ],
      "metadata": {
        "id": "NP9iidPfMcVe"
      }
    },
    {
      "cell_type": "markdown",
      "source": [
        "# **Import Library**"
      ],
      "metadata": {
        "id": "4pdJmqV4MNgX"
      }
    },
    {
      "cell_type": "code",
      "source": [
        "import pandas as pd"
      ],
      "metadata": {
        "id": "ggft74tLNoyX"
      },
      "execution_count": null,
      "outputs": []
    },
    {
      "cell_type": "code",
      "source": [
        "import numpy as np"
      ],
      "metadata": {
        "id": "Xi1mBqIkOG7U"
      },
      "execution_count": null,
      "outputs": []
    },
    {
      "cell_type": "code",
      "source": [
        "import matplotlib.pyplot as plt"
      ],
      "metadata": {
        "id": "fYDHL5-IOKpi"
      },
      "execution_count": null,
      "outputs": []
    },
    {
      "cell_type": "markdown",
      "source": [
        "# **Import Data**"
      ],
      "metadata": {
        "id": "n-Fl9DpcPEhQ"
      }
    },
    {
      "cell_type": "code",
      "source": [
        "from sklearn.datasets import load_digits"
      ],
      "metadata": {
        "id": "p65LYB1pPIzb"
      },
      "execution_count": null,
      "outputs": []
    },
    {
      "cell_type": "code",
      "source": [
        "df = load_digits()"
      ],
      "metadata": {
        "id": "4Ju3Hg6cPYZD"
      },
      "execution_count": null,
      "outputs": []
    },
    {
      "cell_type": "code",
      "source": [
        "_, axes = plt.subplots(nrows=1, ncols=4, figsize=(10, 3))\n",
        "for ax, image, label in zip(axes, df.images, df.target):\n",
        "    ax.set_axis_off()\n",
        "    ax.imshow(image, cmap=plt.cm.gray_r, interpolation=\"nearest\")\n",
        "    ax.set_title(\"Training: %i\" % label)\n"
      ],
      "metadata": {
        "colab": {
          "base_uri": "https://localhost:8080/",
          "height": 227
        },
        "id": "rsCRllCiPdnA",
        "outputId": "1a8bcc3f-2308-4397-f463-1d020d3be4d0"
      },
      "execution_count": null,
      "outputs": [
        {
          "output_type": "display_data",
          "data": {
            "text/plain": [
              "<Figure size 1000x300 with 4 Axes>"
            ],
            "image/png": "[encoded data removed]"
          },
          "metadata": {}
        }
      ]
    },
    {
      "cell_type": "markdown",
      "source": [
        "# **` Data Preprocessing`**"
      ],
      "metadata": {
        "id": "jJzvI6NOREeR"
      }
    },
    {
      "cell_type": "markdown",
      "source": [
        "Flatten Image\n",
        "![imgybi.png](data:image/png;base64,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)"
      ],
      "metadata": {
        "id": "19Gk2W-8RJa0"
      }
    },
    {
      "cell_type": "code",
      "source": [
        "df.images.shape"
      ],
      "metadata": {
        "colab": {
          "base_uri": "https://localhost:8080/"
        },
        "id": "Pv1RX6mdSoum",
        "outputId": "6c7e3929-04b9-4fe8-a7bb-088cd711b601"
      },
      "execution_count": null,
      "outputs": [
        {
          "output_type": "execute_result",
          "data": {
            "text/plain": [
              "(1797, 8, 8)"
            ]
          },
          "metadata": {},
          "execution_count": 8
        }
      ]
    },
    {
      "cell_type": "code",
      "source": [
        "df.images[0]\n"
      ],
      "metadata": {
        "colab": {
          "base_uri": "https://localhost:8080/"
        },
        "id": "YZ7MXb4eSxYw",
        "outputId": "ff8faf48-d6aa-4e5c-eb7b-8a34f499265e"
      },
      "execution_count": null,
      "outputs": [
        {
          "output_type": "execute_result",
          "data": {
            "text/plain": [
              "array([[ 0.,  0.,  5., 13.,  9.,  1.,  0.,  0.],\n",
              "       [ 0.,  0., 13., 15., 10., 15.,  5.,  0.],\n",
              "       [ 0.,  3., 15.,  2.,  0., 11.,  8.,  0.],\n",
              "       [ 0.,  4., 12.,  0.,  0.,  8.,  8.,  0.],\n",
              "       [ 0.,  5.,  8.,  0.,  0.,  9.,  8.,  0.],\n",
              "       [ 0.,  4., 11.,  0.,  1., 12.,  7.,  0.],\n",
              "       [ 0.,  2., 14.,  5., 10., 12.,  0.,  0.],\n",
              "       [ 0.,  0.,  6., 13., 10.,  0.,  0.,  0.]])"
            ]
          },
          "metadata": {},
          "execution_count": 9
        }
      ]
    },
    {
      "cell_type": "code",
      "source": [
        "df.images[0].shape\n"
      ],
      "metadata": {
        "colab": {
          "base_uri": "https://localhost:8080/"
        },
        "id": "ezwL6KJWS0YI",
        "outputId": "d2187d68-15bb-4891-c540-66c3d62a920e"
      },
      "execution_count": null,
      "outputs": [
        {
          "output_type": "execute_result",
          "data": {
            "text/plain": [
              "(8, 8)"
            ]
          },
          "metadata": {},
          "execution_count": 10
        }
      ]
    },
    {
      "cell_type": "code",
      "source": [
        "n_samples = len(df.images)\n",
        "data = df.images.reshape(n_samples, -1)"
      ],
      "metadata": {
        "id": "KY2aqNRLS8TI"
      },
      "execution_count": null,
      "outputs": []
    },
    {
      "cell_type": "code",
      "source": [
        "data[0]\n"
      ],
      "metadata": {
        "colab": {
          "base_uri": "https://localhost:8080/"
        },
        "id": "ExFgVEWBTBUw",
        "outputId": "7922f285-2361-4708-fc45-0ac416cccb2c"
      },
      "execution_count": null,
      "outputs": [
        {
          "output_type": "execute_result",
          "data": {
            "text/plain": [
              "array([ 0.,  0.,  5., 13.,  9.,  1.,  0.,  0.,  0.,  0., 13., 15., 10.,\n",
              "       15.,  5.,  0.,  0.,  3., 15.,  2.,  0., 11.,  8.,  0.,  0.,  4.,\n",
              "       12.,  0.,  0.,  8.,  8.,  0.,  0.,  5.,  8.,  0.,  0.,  9.,  8.,\n",
              "        0.,  0.,  4., 11.,  0.,  1., 12.,  7.,  0.,  0.,  2., 14.,  5.,\n",
              "       10., 12.,  0.,  0.,  0.,  0.,  6., 13., 10.,  0.,  0.,  0.])"
            ]
          },
          "metadata": {},
          "execution_count": 13
        }
      ]
    },
    {
      "cell_type": "code",
      "source": [
        "data[0].shape\n"
      ],
      "metadata": {
        "colab": {
          "base_uri": "https://localhost:8080/"
        },
        "id": "uAtyDhRdTEW1",
        "outputId": "20575b34-ef03-4dee-83c6-18bc3d5272c4"
      },
      "execution_count": null,
      "outputs": [
        {
          "output_type": "execute_result",
          "data": {
            "text/plain": [
              "(64,)"
            ]
          },
          "metadata": {},
          "execution_count": 14
        }
      ]
    },
    {
      "cell_type": "code",
      "source": [
        "data.shape\n"
      ],
      "metadata": {
        "colab": {
          "base_uri": "https://localhost:8080/"
        },
        "id": "rTF9nM0STIOe",
        "outputId": "584d036c-d555-4a99-b63e-d0c7ac0dc3aa"
      },
      "execution_count": null,
      "outputs": [
        {
          "output_type": "execute_result",
          "data": {
            "text/plain": [
              "(1797, 64)"
            ]
          },
          "metadata": {},
          "execution_count": 15
        }
      ]
    },
    {
      "cell_type": "markdown",
      "source": [
        "Scaling Image data"
      ],
      "metadata": {
        "id": "AY-Guw_QTOt5"
      }
    },
    {
      "cell_type": "code",
      "source": [
        "data.min()\n"
      ],
      "metadata": {
        "colab": {
          "base_uri": "https://localhost:8080/"
        },
        "id": "KM-HdBl2TLUK",
        "outputId": "bada3a20-1130-415f-ef59-041a19a7cb9b"
      },
      "execution_count": null,
      "outputs": [
        {
          "output_type": "execute_result",
          "data": {
            "text/plain": [
              "0.0"
            ]
          },
          "metadata": {},
          "execution_count": 16
        }
      ]
    },
    {
      "cell_type": "code",
      "source": [
        "data.max()\n"
      ],
      "metadata": {
        "colab": {
          "base_uri": "https://localhost:8080/"
        },
        "id": "gaue9y5ATWl5",
        "outputId": "301bcf8d-cb9d-4869-8cd6-aa213655f6da"
      },
      "execution_count": null,
      "outputs": [
        {
          "output_type": "execute_result",
          "data": {
            "text/plain": [
              "16.0"
            ]
          },
          "metadata": {},
          "execution_count": 17
        }
      ]
    },
    {
      "cell_type": "code",
      "source": [
        "data[0]\n"
      ],
      "metadata": {
        "colab": {
          "base_uri": "https://localhost:8080/"
        },
        "id": "ZDQA9YTHTZUQ",
        "outputId": "88d465b2-e9b1-4189-a3ba-80c858e56b4e"
      },
      "execution_count": null,
      "outputs": [
        {
          "output_type": "execute_result",
          "data": {
            "text/plain": [
              "array([ 0.,  0.,  5., 13.,  9.,  1.,  0.,  0.,  0.,  0., 13., 15., 10.,\n",
              "       15.,  5.,  0.,  0.,  3., 15.,  2.,  0., 11.,  8.,  0.,  0.,  4.,\n",
              "       12.,  0.,  0.,  8.,  8.,  0.,  0.,  5.,  8.,  0.,  0.,  9.,  8.,\n",
              "        0.,  0.,  4., 11.,  0.,  1., 12.,  7.,  0.,  0.,  2., 14.,  5.,\n",
              "       10., 12.,  0.,  0.,  0.,  0.,  6., 13., 10.,  0.,  0.,  0.])"
            ]
          },
          "metadata": {},
          "execution_count": 18
        }
      ]
    },
    {
      "cell_type": "markdown",
      "source": [
        "Train Test Split"
      ],
      "metadata": {
        "id": "pmwkLkG_Tff2"
      }
    },
    {
      "cell_type": "code",
      "source": [
        "from sklearn.model_selection import train_test_split\n"
      ],
      "metadata": {
        "id": "QD8666UeTjm2"
      },
      "execution_count": null,
      "outputs": []
    },
    {
      "cell_type": "code",
      "source": [
        "X_train, X_test, y_train, y_test, = train_test_split(data, df.target, test_size=0.3)\n"
      ],
      "metadata": {
        "id": "i2xxvAqkTmob"
      },
      "execution_count": null,
      "outputs": []
    },
    {
      "cell_type": "code",
      "source": [
        "X_train.shape, X_test.shape, y_train.shape, y_test.shape\n"
      ],
      "metadata": {
        "colab": {
          "base_uri": "https://localhost:8080/"
        },
        "id": "lc7YCRsRTpQN",
        "outputId": "435e61c2-1dd1-4f4b-bd6a-1030fc285157"
      },
      "execution_count": null,
      "outputs": [
        {
          "output_type": "execute_result",
          "data": {
            "text/plain": [
              "((1257, 64), (540, 64), (1257,), (540,))"
            ]
          },
          "metadata": {},
          "execution_count": 21
        }
      ]
    },
    {
      "cell_type": "markdown",
      "source": [
        "Random Forest Model"
      ],
      "metadata": {
        "id": "Tl_lPdYcTxOg"
      }
    },
    {
      "cell_type": "code",
      "source": [
        "from sklearn.ensemble import RandomForestClassifier\n"
      ],
      "metadata": {
        "id": "6VrdtGrXTr-5"
      },
      "execution_count": null,
      "outputs": []
    },
    {
      "cell_type": "code",
      "source": [
        "rf = RandomForestClassifier()\n"
      ],
      "metadata": {
        "id": "2SzIPRZkT2B5"
      },
      "execution_count": null,
      "outputs": []
    },
    {
      "cell_type": "code",
      "source": [
        "rf.fit(X_train, y_train)\n"
      ],
      "metadata": {
        "colab": {
          "base_uri": "https://localhost:8080/",
          "height": 74
        },
        "id": "J9hFtR48T6lu",
        "outputId": "f0f09dc9-fa92-44f6-a9d1-2565ed028ffb"
      },
      "execution_count": null,
      "outputs": [
        {
          "output_type": "execute_result",
          "data": {
            "text/plain": [
              "RandomForestClassifier()"
            ],
            "text/html": [
              "<style>#sk-container-id-1 {color: black;}#sk-container-id-1 pre{padding: 0;}#sk-container-id-1 div.sk-toggleable {background-color: white;}#sk-container-id-1 label.sk-toggleable__label {cursor: pointer;display: block;width: 100%;margin-bottom: 0;padding: 0.3em;box-sizing: border-box;text-align: center;}#sk-container-id-1 label.sk-toggleable__label-arrow:before {content: \"▸\";float: left;margin-right: 0.25em;color: #696969;}#sk-container-id-1 label.sk-toggleable__label-arrow:hover:before {color: black;}#sk-container-id-1 div.sk-estimator:hover label.sk-toggleable__label-arrow:before {color: black;}#sk-container-id-1 div.sk-toggleable__content {max-height: 0;max-width: 0;overflow: hidden;text-align: left;background-color: #f0f8ff;}#sk-container-id-1 div.sk-toggleable__content pre {margin: 0.2em;color: black;border-radius: 0.25em;background-color: #f0f8ff;}#sk-container-id-1 input.sk-toggleable__control:checked~div.sk-toggleable__content {max-height: 200px;max-width: 100%;overflow: auto;}#sk-container-id-1 input.sk-toggleable__control:checked~label.sk-toggleable__label-arrow:before {content: \"▾\";}#sk-container-id-1 div.sk-estimator input.sk-toggleable__control:checked~label.sk-toggleable__label {background-color: #d4ebff;}#sk-container-id-1 div.sk-label input.sk-toggleable__control:checked~label.sk-toggleable__label {background-color: #d4ebff;}#sk-container-id-1 input.sk-hidden--visually {border: 0;clip: rect(1px 1px 1px 1px);clip: rect(1px, 1px, 1px, 1px);height: 1px;margin: -1px;overflow: hidden;padding: 0;position: absolute;width: 1px;}#sk-container-id-1 div.sk-estimator {font-family: monospace;background-color: #f0f8ff;border: 1px dotted black;border-radius: 0.25em;box-sizing: border-box;margin-bottom: 0.5em;}#sk-container-id-1 div.sk-estimator:hover {background-color: #d4ebff;}#sk-container-id-1 div.sk-parallel-item::after {content: \"\";width: 100%;border-bottom: 1px solid gray;flex-grow: 1;}#sk-container-id-1 div.sk-label:hover label.sk-toggleable__label {background-color: #d4ebff;}#sk-container-id-1 div.sk-serial::before {content: \"\";position: absolute;border-left: 1px solid gray;box-sizing: border-box;top: 0;bottom: 0;left: 50%;z-index: 0;}#sk-container-id-1 div.sk-serial {display: flex;flex-direction: column;align-items: center;background-color: white;padding-right: 0.2em;padding-left: 0.2em;position: relative;}#sk-container-id-1 div.sk-item {position: relative;z-index: 1;}#sk-container-id-1 div.sk-parallel {display: flex;align-items: stretch;justify-content: center;background-color: white;position: relative;}#sk-container-id-1 div.sk-item::before, #sk-container-id-1 div.sk-parallel-item::before {content: \"\";position: absolute;border-left: 1px solid gray;box-sizing: border-box;top: 0;bottom: 0;left: 50%;z-index: -1;}#sk-container-id-1 div.sk-parallel-item {display: flex;flex-direction: column;z-index: 1;position: relative;background-color: white;}#sk-container-id-1 div.sk-parallel-item:first-child::after {align-self: flex-end;width: 50%;}#sk-container-id-1 div.sk-parallel-item:last-child::after {align-self: flex-start;width: 50%;}#sk-container-id-1 div.sk-parallel-item:only-child::after {width: 0;}#sk-container-id-1 div.sk-dashed-wrapped {border: 1px dashed gray;margin: 0 0.4em 0.5em 0.4em;box-sizing: border-box;padding-bottom: 0.4em;background-color: white;}#sk-container-id-1 div.sk-label label {font-family: monospace;font-weight: bold;display: inline-block;line-height: 1.2em;}#sk-container-id-1 div.sk-label-container {text-align: center;}#sk-container-id-1 div.sk-container {/* jupyter's `normalize.less` sets `[hidden] { display: none; }` but bootstrap.min.css set `[hidden] { display: none !important; }` so we also need the `!important` here to be able to override the default hidden behavior on the sphinx rendered scikit-learn.org. See: https://github.com/scikit-learn/scikit-learn/issues/21755 */display: inline-block !important;position: relative;}#sk-container-id-1 div.sk-text-repr-fallback {display: none;}</style><div id=\"sk-container-id-1\" class=\"sk-top-container\"><div class=\"sk-text-repr-fallback\"><pre>RandomForestClassifier()</pre><b>In a Jupyter environment, please rerun this cell to show the HTML representation or trust the notebook. <br />On GitHub, the HTML representation is unable to render, please try loading this page with nbviewer.org.</b></div><div class=\"sk-container\" hidden><div class=\"sk-item\"><div class=\"sk-estimator sk-toggleable\"><input class=\"sk-toggleable__control sk-hidden--visually\" id=\"sk-estimator-id-1\" type=\"checkbox\" checked><label for=\"sk-estimator-id-1\" class=\"sk-toggleable__label sk-toggleable__label-arrow\">RandomForestClassifier</label><div class=\"sk-toggleable__content\"><pre>RandomForestClassifier()</pre></div></div></div></div></div>"
            ]
          },
          "metadata": {},
          "execution_count": 24
        }
      ]
    },
    {
      "cell_type": "markdown",
      "source": [
        "Predict Test Data"
      ],
      "metadata": {
        "id": "sv0zHYcnUCYt"
      }
    },
    {
      "cell_type": "code",
      "source": [
        "y_pred = rf.predict(X_test)\n"
      ],
      "metadata": {
        "id": "KlRUYI_2UJjc"
      },
      "execution_count": null,
      "outputs": []
    },
    {
      "cell_type": "code",
      "source": [
        "y_pred\n"
      ],
      "metadata": {
        "colab": {
          "base_uri": "https://localhost:8080/"
        },
        "id": "VwWutBRIUMc-",
        "outputId": "14be1d70-43a9-4dec-a654-a42824e87da0"
      },
      "execution_count": null,
      "outputs": [
        {
          "output_type": "execute_result",
          "data": {
            "text/plain": [
              "array([2, 6, 5, 8, 8, 7, 5, 9, 7, 8, 7, 4, 3, 8, 3, 1, 7, 2, 4, 0, 0, 7,\n",
              "       7, 8, 1, 0, 1, 1, 3, 0, 1, 3, 1, 8, 9, 6, 5, 7, 3, 7, 3, 3, 8, 3,\n",
              "       4, 0, 5, 8, 1, 9, 8, 0, 2, 7, 7, 1, 7, 4, 0, 3, 7, 7, 2, 2, 8, 4,\n",
              "       1, 7, 7, 0, 0, 6, 5, 3, 1, 4, 0, 8, 2, 5, 4, 0, 5, 0, 7, 8, 6, 9,\n",
              "       0, 4, 3, 6, 4, 8, 1, 7, 3, 2, 6, 8, 5, 3, 2, 6, 1, 0, 4, 6, 5, 5,\n",
              "       4, 4, 7, 4, 1, 5, 3, 9, 7, 8, 5, 3, 2, 4, 6, 3, 0, 8, 3, 1, 5, 8,\n",
              "       5, 8, 8, 0, 0, 9, 0, 1, 0, 5, 8, 5, 1, 4, 0, 1, 4, 0, 2, 2, 3, 1,\n",
              "       7, 0, 2, 3, 0, 2, 6, 4, 4, 9, 6, 6, 1, 8, 3, 3, 5, 4, 3, 3, 0, 3,\n",
              "       0, 1, 6, 8, 0, 4, 0, 9, 6, 5, 6, 9, 5, 6, 8, 3, 5, 9, 3, 5, 0, 8,\n",
              "       4, 6, 1, 0, 7, 4, 5, 8, 2, 8, 7, 9, 4, 1, 8, 2, 5, 0, 1, 4, 3, 9,\n",
              "       3, 7, 5, 6, 6, 8, 4, 2, 0, 1, 7, 4, 6, 9, 2, 5, 4, 7, 4, 7, 2, 2,\n",
              "       3, 5, 0, 9, 9, 1, 6, 5, 5, 7, 3, 1, 4, 5, 4, 6, 4, 1, 8, 9, 4, 3,\n",
              "       0, 4, 9, 5, 0, 7, 1, 0, 6, 5, 9, 9, 7, 3, 7, 5, 1, 9, 3, 3, 8, 7,\n",
              "       6, 8, 5, 2, 6, 0, 7, 0, 0, 3, 9, 9, 9, 9, 0, 0, 5, 4, 4, 5, 7, 5,\n",
              "       5, 9, 3, 0, 8, 6, 9, 6, 8, 2, 8, 7, 4, 7, 4, 2, 9, 3, 0, 8, 8, 4,\n",
              "       1, 1, 4, 7, 3, 5, 8, 4, 7, 2, 3, 1, 0, 1, 2, 5, 5, 5, 9, 9, 9, 4,\n",
              "       7, 5, 0, 2, 0, 6, 2, 5, 9, 3, 8, 7, 7, 0, 7, 2, 5, 5, 1, 8, 9, 8,\n",
              "       4, 6, 6, 9, 1, 5, 3, 1, 1, 5, 9, 2, 0, 5, 9, 9, 2, 9, 0, 1, 8, 0,\n",
              "       9, 8, 7, 9, 1, 5, 7, 1, 4, 2, 9, 4, 5, 9, 2, 0, 6, 3, 5, 0, 0, 4,\n",
              "       5, 5, 4, 6, 9, 8, 3, 2, 5, 6, 9, 4, 6, 2, 2, 3, 8, 1, 3, 7, 5, 8,\n",
              "       1, 8, 3, 3, 6, 3, 1, 9, 7, 0, 2, 2, 0, 1, 3, 3, 6, 7, 7, 9, 6, 5,\n",
              "       6, 9, 6, 3, 8, 5, 7, 0, 1, 7, 1, 3, 8, 5, 4, 7, 8, 1, 2, 6, 4, 4,\n",
              "       2, 5, 1, 9, 9, 9, 9, 5, 2, 6, 2, 1, 2, 5, 8, 6, 7, 2, 8, 5, 3, 1,\n",
              "       6, 6, 7, 6, 0, 8, 0, 9, 7, 0, 1, 4, 1, 3, 0, 3, 8, 7, 6, 7, 4, 8,\n",
              "       7, 1, 1, 5, 3, 5, 9, 1, 2, 8, 0, 1])"
            ]
          },
          "metadata": {},
          "execution_count": 26
        }
      ]
    },
    {
      "cell_type": "markdown",
      "source": [
        "Model Accuracy"
      ],
      "metadata": {
        "id": "zPCmf67pUbNj"
      }
    },
    {
      "cell_type": "code",
      "source": [
        "from sklearn.metrics import confusion_matrix, classification_report\n"
      ],
      "metadata": {
        "id": "HFabRUEPUYLf"
      },
      "execution_count": null,
      "outputs": []
    },
    {
      "cell_type": "code",
      "source": [
        "confusion_matrix(y_test, y_pred)\n"
      ],
      "metadata": {
        "colab": {
          "base_uri": "https://localhost:8080/"
        },
        "id": "6vx3XzFfUguH",
        "outputId": "5e12630f-e407-49aa-9125-f3edc72d1e12"
      },
      "execution_count": null,
      "outputs": [
        {
          "output_type": "execute_result",
          "data": {
            "text/plain": [
              "array([[60,  0,  0,  0,  0,  0,  0,  0,  0,  0],\n",
              "       [ 0, 53,  0,  0,  0,  0,  0,  0,  0,  0],\n",
              "       [ 0,  0, 43,  0,  0,  0,  0,  0,  0,  0],\n",
              "       [ 0,  0,  0, 55,  0,  0,  0,  0,  0,  1],\n",
              "       [ 0,  0,  0,  0, 50,  0,  0,  1,  0,  0],\n",
              "       [ 0,  0,  0,  0,  1, 61,  0,  0,  0,  0],\n",
              "       [ 0,  0,  0,  0,  1,  0, 46,  0,  1,  0],\n",
              "       [ 0,  0,  0,  0,  0,  0,  0, 51,  0,  2],\n",
              "       [ 0,  3,  0,  0,  0,  1,  0,  1, 54,  0],\n",
              "       [ 0,  0,  0,  1,  0,  2,  0,  3,  0, 49]])"
            ]
          },
          "metadata": {},
          "execution_count": 32
        }
      ]
    },
    {
      "cell_type": "code",
      "source": [
        "print(classification_report(y_test, y_pred))\n"
      ],
      "metadata": {
        "colab": {
          "base_uri": "https://localhost:8080/"
        },
        "id": "3hopkokUU0QW",
        "outputId": "aa257fa7-20cb-412c-ed20-9552a709414e"
      },
      "execution_count": null,
      "outputs": [
        {
          "output_type": "stream",
          "name": "stdout",
          "text": [
            "              precision    recall  f1-score   support\n",
            "\n",
            "           0       1.00      1.00      1.00        60\n",
            "           1       0.95      1.00      0.97        53\n",
            "           2       1.00      1.00      1.00        43\n",
            "           3       0.98      0.98      0.98        56\n",
            "           4       0.96      0.98      0.97        51\n",
            "           5       0.95      0.98      0.97        62\n",
            "           6       1.00      0.96      0.98        48\n",
            "           7       0.91      0.96      0.94        53\n",
            "           8       0.98      0.92      0.95        59\n",
            "           9       0.94      0.89      0.92        55\n",
            "\n",
            "    accuracy                           0.97       540\n",
            "   macro avg       0.97      0.97      0.97       540\n",
            "weighted avg       0.97      0.97      0.97       540\n",
            "\n"
          ]
        }
      ]
    }
  ]
}